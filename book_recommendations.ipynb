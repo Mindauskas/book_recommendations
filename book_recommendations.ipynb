{
  "nbformat": 4,
  "nbformat_minor": 0,
  "metadata": {
    "colab": {
      "name": "book_recommendations.ipynb",
      "provenance": [],
      "collapsed_sections": [],
      "include_colab_link": true
    },
    "kernelspec": {
      "name": "python3",
      "display_name": "Python 3"
    },
    "accelerator": "TPU"
  },
  "cells": [
    {
      "cell_type": "markdown",
      "metadata": {
        "id": "view-in-github",
        "colab_type": "text"
      },
      "source": [
        "<a href=\"https://colab.research.google.com/github/Mindauskas/book_recommendations/blob/master/book_recommendations.ipynb\" target=\"_parent\"><img src=\"https://colab.research.google.com/assets/colab-badge.svg\" alt=\"Open In Colab\"/></a>"
      ]
    },
    {
      "cell_type": "markdown",
      "metadata": {
        "id": "9NQtV5_ySbp0",
        "colab_type": "text"
      },
      "source": [
        "**Book recommendations**"
      ]
    },
    {
      "cell_type": "markdown",
      "metadata": {
        "id": "PuICS_JZSjbL",
        "colab_type": "text"
      },
      "source": [
        "Book-Crossings is a book ratings dataset compiled by Cai-Nicolas Ziegler based on data from bookcrossing.com. It contains 1.1 million ratings of 270,000 books by 90,000 users. The ratings are on a scale from 1 to 10, and implicit ratings are also included.\n",
        "Link to the dataset: http://www2.informatik.uni-freiburg.de/~cziegler/BX/"
      ]
    },
    {
      "cell_type": "code",
      "metadata": {
        "id": "bVg4CTK-YmFi",
        "colab_type": "code",
        "colab": {}
      },
      "source": [
        "%matplotlib inline"
      ],
      "execution_count": 0,
      "outputs": []
    },
    {
      "cell_type": "code",
      "metadata": {
        "id": "TY8wUjR2S16a",
        "colab_type": "code",
        "colab": {
          "base_uri": "https://localhost:8080/",
          "height": 34
        },
        "outputId": "5375bb95-ecf5-4a76-e287-5758293c19bd"
      },
      "source": [
        "try:\n",
        "   %tensorflow_version 2.x\n",
        "except Exception:\n",
        "   pass"
      ],
      "execution_count": 2,
      "outputs": [
        {
          "output_type": "stream",
          "text": [
            "TensorFlow 2.x selected.\n"
          ],
          "name": "stdout"
        }
      ]
    },
    {
      "cell_type": "code",
      "metadata": {
        "id": "HIxDXkrITIuy",
        "colab_type": "code",
        "colab": {}
      },
      "source": [
        "SETUP = True"
      ],
      "execution_count": 0,
      "outputs": []
    },
    {
      "cell_type": "code",
      "metadata": {
        "id": "jaOrzy_xTI7n",
        "colab_type": "code",
        "outputId": "088e01fd-dd01-4a20-e321-9990b73faf67",
        "colab": {
          "base_uri": "https://localhost:8080/",
          "height": 360
        }
      },
      "source": [
        "if SETUP:\n",
        "    !pip install -q -U toai\n",
        "    !pip install -q -U nb_black\n",
        "    !pip install -q -U tensorflow-datasets\n",
        "    !pip install -q -U --no-deps tensorflow-addons~=0.6\n",
        "    print(__import__(\"toai\").__version__)\n",
        "    print(__import__(\"tensorflow\").__version__)"
      ],
      "execution_count": 4,
      "outputs": [
        {
          "output_type": "stream",
          "text": [
            "\u001b[K     |████████████████████████████████| 296kB 5.3MB/s \n",
            "\u001b[K     |████████████████████████████████| 153kB 55.1MB/s \n",
            "\u001b[K     |████████████████████████████████| 552kB 52.9MB/s \n",
            "\u001b[K     |████████████████████████████████| 81kB 9.9MB/s \n",
            "\u001b[K     |████████████████████████████████| 61kB 8.8MB/s \n",
            "\u001b[K     |████████████████████████████████| 122kB 56.1MB/s \n",
            "\u001b[?25h  Building wheel for fastparquet (setup.py) ... \u001b[?25l\u001b[?25hdone\n",
            "  Building wheel for funcy (setup.py) ... \u001b[?25l\u001b[?25hdone\n",
            "  Building wheel for thrift (setup.py) ... \u001b[?25l\u001b[?25hdone\n",
            "\u001b[31mERROR: google-colab 1.0.0 has requirement google-auth~=1.4.0, but you'll have google-auth 1.10.0 which is incompatible.\u001b[0m\n",
            "\u001b[31mERROR: google-colab 1.0.0 has requirement requests~=2.21.0, but you'll have requests 2.22.0 which is incompatible.\u001b[0m\n",
            "\u001b[31mERROR: google-colab 1.0.0 has requirement six~=1.12.0, but you'll have six 1.13.0 which is incompatible.\u001b[0m\n",
            "\u001b[31mERROR: datascience 0.10.6 has requirement folium==0.2.1, but you'll have folium 0.8.3 which is incompatible.\u001b[0m\n",
            "\u001b[K     |████████████████████████████████| 102kB 3.2MB/s \n",
            "\u001b[K     |████████████████████████████████| 737kB 11.2MB/s \n",
            "\u001b[?25h  Building wheel for nb-black (setup.py) ... \u001b[?25l\u001b[?25hdone\n",
            "\u001b[K     |████████████████████████████████| 1.8MB 3.5MB/s \n",
            "\u001b[?25h0.3.8\n",
            "2.1.0-rc1\n"
          ],
          "name": "stdout"
        }
      ]
    },
    {
      "cell_type": "code",
      "metadata": {
        "id": "xj2iojYHTJDr",
        "colab_type": "code",
        "colab": {
          "base_uri": "https://localhost:8080/",
          "height": 139
        },
        "outputId": "68c75fba-2703-4d79-8fbb-94e97b825309"
      },
      "source": [
        "from toai.imports import *\n",
        "from toai.encode import CategoricalEncoder\n",
        "from toai.data import DataBundle, DataParams, DataContainer\n",
        "import tensorflow as tf\n",
        "from tensorflow import keras\n",
        "import tensorflow_addons as tfa\n",
        "import tensorflow_datasets as tfds"
      ],
      "execution_count": 5,
      "outputs": [
        {
          "output_type": "stream",
          "text": [
            "/usr/local/lib/python3.6/dist-packages/sklearn/externals/joblib/__init__.py:15: FutureWarning: sklearn.externals.joblib is deprecated in 0.21 and will be removed in 0.23. Please import this functionality directly from joblib, which can be installed with: pip install joblib. If this warning is raised when loading pickled models, you may need to re-serialize those models with scikit-learn 0.21+.\n",
            "  warnings.warn(msg, category=FutureWarning)\n",
            "/usr/local/lib/python3.6/dist-packages/sklearn/utils/deprecation.py:144: FutureWarning: The sklearn.metrics.scorer module is  deprecated in version 0.22 and will be removed in version 0.24. The corresponding classes / functions should instead be imported from sklearn.metrics. Anything that cannot be imported from sklearn.metrics is now part of the private API.\n",
            "  warnings.warn(message, FutureWarning)\n",
            "/usr/local/lib/python3.6/dist-packages/toai/imports.py:70: UserWarning: Could not find kaggle.json. Make sure it's located in /root/.kaggle. Or use the environment method.\n",
            "  warnings.warn(str(error))\n"
          ],
          "name": "stderr"
        }
      ]
    },
    {
      "cell_type": "code",
      "metadata": {
        "id": "B4sMnzGpTJIo",
        "colab_type": "code",
        "colab": {}
      },
      "source": [
        "tf.get_logger().setLevel(\"ERROR\")"
      ],
      "execution_count": 0,
      "outputs": []
    },
    {
      "cell_type": "code",
      "metadata": {
        "id": "by8ELOuyToOr",
        "colab_type": "code",
        "colab": {}
      },
      "source": [
        "TEMP_DIR = Path(\"temp/book-recommendations\")\n",
        "TEMP_DIR.mkdir(parents=True, exist_ok=True)"
      ],
      "execution_count": 0,
      "outputs": []
    },
    {
      "cell_type": "code",
      "metadata": {
        "id": "iQRIAsyHToal",
        "colab_type": "code",
        "colab": {}
      },
      "source": [
        "if SETUP:\n",
        "    TEMP_DIR.mkdir(parents=True, exist_ok=True)"
      ],
      "execution_count": 0,
      "outputs": []
    },
    {
      "cell_type": "markdown",
      "metadata": {
        "id": "tzb6qH5evZWv",
        "colab_type": "text"
      },
      "source": [
        "**EDA**"
      ]
    },
    {
      "cell_type": "code",
      "metadata": {
        "id": "uYxLOID3Toit",
        "colab_type": "code",
        "colab": {}
      },
      "source": [
        "book_ratings = pd.read_csv('BX-Book-Ratings.csv', sep=';', encoding = 'latin')"
      ],
      "execution_count": 0,
      "outputs": []
    },
    {
      "cell_type": "code",
      "metadata": {
        "id": "tjTZgkSj1rnH",
        "colab_type": "code",
        "outputId": "8672e91e-6efa-4195-dbfc-40326d1069c1",
        "colab": {
          "base_uri": "https://localhost:8080/",
          "height": 34
        }
      },
      "source": [
        "book_ratings.shape"
      ],
      "execution_count": 10,
      "outputs": [
        {
          "output_type": "execute_result",
          "data": {
            "text/plain": [
              "(1149780, 3)"
            ]
          },
          "metadata": {
            "tags": []
          },
          "execution_count": 10
        }
      ]
    },
    {
      "cell_type": "code",
      "metadata": {
        "id": "uN8b8S6v1rwf",
        "colab_type": "code",
        "outputId": "7a7bb82a-6f72-4252-cb06-23131cb6ce18",
        "colab": {
          "base_uri": "https://localhost:8080/",
          "height": 204
        }
      },
      "source": [
        "book_ratings.head(5)"
      ],
      "execution_count": 11,
      "outputs": [
        {
          "output_type": "execute_result",
          "data": {
            "text/html": [
              "<div>\n",
              "<style scoped>\n",
              "    .dataframe tbody tr th:only-of-type {\n",
              "        vertical-align: middle;\n",
              "    }\n",
              "\n",
              "    .dataframe tbody tr th {\n",
              "        vertical-align: top;\n",
              "    }\n",
              "\n",
              "    .dataframe thead th {\n",
              "        text-align: right;\n",
              "    }\n",
              "</style>\n",
              "<table border=\"1\" class=\"dataframe\">\n",
              "  <thead>\n",
              "    <tr style=\"text-align: right;\">\n",
              "      <th></th>\n",
              "      <th>User-ID</th>\n",
              "      <th>ISBN</th>\n",
              "      <th>Book-Rating</th>\n",
              "    </tr>\n",
              "  </thead>\n",
              "  <tbody>\n",
              "    <tr>\n",
              "      <th>0</th>\n",
              "      <td>276725</td>\n",
              "      <td>034545104X</td>\n",
              "      <td>0</td>\n",
              "    </tr>\n",
              "    <tr>\n",
              "      <th>1</th>\n",
              "      <td>276726</td>\n",
              "      <td>0155061224</td>\n",
              "      <td>5</td>\n",
              "    </tr>\n",
              "    <tr>\n",
              "      <th>2</th>\n",
              "      <td>276727</td>\n",
              "      <td>0446520802</td>\n",
              "      <td>0</td>\n",
              "    </tr>\n",
              "    <tr>\n",
              "      <th>3</th>\n",
              "      <td>276729</td>\n",
              "      <td>052165615X</td>\n",
              "      <td>3</td>\n",
              "    </tr>\n",
              "    <tr>\n",
              "      <th>4</th>\n",
              "      <td>276729</td>\n",
              "      <td>0521795028</td>\n",
              "      <td>6</td>\n",
              "    </tr>\n",
              "  </tbody>\n",
              "</table>\n",
              "</div>"
            ],
            "text/plain": [
              "   User-ID        ISBN  Book-Rating\n",
              "0   276725  034545104X            0\n",
              "1   276726  0155061224            5\n",
              "2   276727  0446520802            0\n",
              "3   276729  052165615X            3\n",
              "4   276729  0521795028            6"
            ]
          },
          "metadata": {
            "tags": []
          },
          "execution_count": 11
        }
      ]
    },
    {
      "cell_type": "code",
      "metadata": {
        "id": "4KSop32BVm6V",
        "colab_type": "code",
        "outputId": "3031e780-52ca-443d-8509-67782d91dbcb",
        "colab": {
          "base_uri": "https://localhost:8080/",
          "height": 297
        }
      },
      "source": [
        "book_ratings.describe()"
      ],
      "execution_count": 12,
      "outputs": [
        {
          "output_type": "execute_result",
          "data": {
            "text/html": [
              "<div>\n",
              "<style scoped>\n",
              "    .dataframe tbody tr th:only-of-type {\n",
              "        vertical-align: middle;\n",
              "    }\n",
              "\n",
              "    .dataframe tbody tr th {\n",
              "        vertical-align: top;\n",
              "    }\n",
              "\n",
              "    .dataframe thead th {\n",
              "        text-align: right;\n",
              "    }\n",
              "</style>\n",
              "<table border=\"1\" class=\"dataframe\">\n",
              "  <thead>\n",
              "    <tr style=\"text-align: right;\">\n",
              "      <th></th>\n",
              "      <th>User-ID</th>\n",
              "      <th>Book-Rating</th>\n",
              "    </tr>\n",
              "  </thead>\n",
              "  <tbody>\n",
              "    <tr>\n",
              "      <th>count</th>\n",
              "      <td>1.149780e+06</td>\n",
              "      <td>1.149780e+06</td>\n",
              "    </tr>\n",
              "    <tr>\n",
              "      <th>mean</th>\n",
              "      <td>1.403864e+05</td>\n",
              "      <td>2.866950e+00</td>\n",
              "    </tr>\n",
              "    <tr>\n",
              "      <th>std</th>\n",
              "      <td>8.056228e+04</td>\n",
              "      <td>3.854184e+00</td>\n",
              "    </tr>\n",
              "    <tr>\n",
              "      <th>min</th>\n",
              "      <td>2.000000e+00</td>\n",
              "      <td>0.000000e+00</td>\n",
              "    </tr>\n",
              "    <tr>\n",
              "      <th>25%</th>\n",
              "      <td>7.034500e+04</td>\n",
              "      <td>0.000000e+00</td>\n",
              "    </tr>\n",
              "    <tr>\n",
              "      <th>50%</th>\n",
              "      <td>1.410100e+05</td>\n",
              "      <td>0.000000e+00</td>\n",
              "    </tr>\n",
              "    <tr>\n",
              "      <th>75%</th>\n",
              "      <td>2.110280e+05</td>\n",
              "      <td>7.000000e+00</td>\n",
              "    </tr>\n",
              "    <tr>\n",
              "      <th>max</th>\n",
              "      <td>2.788540e+05</td>\n",
              "      <td>1.000000e+01</td>\n",
              "    </tr>\n",
              "  </tbody>\n",
              "</table>\n",
              "</div>"
            ],
            "text/plain": [
              "            User-ID   Book-Rating\n",
              "count  1.149780e+06  1.149780e+06\n",
              "mean   1.403864e+05  2.866950e+00\n",
              "std    8.056228e+04  3.854184e+00\n",
              "min    2.000000e+00  0.000000e+00\n",
              "25%    7.034500e+04  0.000000e+00\n",
              "50%    1.410100e+05  0.000000e+00\n",
              "75%    2.110280e+05  7.000000e+00\n",
              "max    2.788540e+05  1.000000e+01"
            ]
          },
          "metadata": {
            "tags": []
          },
          "execution_count": 12
        }
      ]
    },
    {
      "cell_type": "code",
      "metadata": {
        "id": "0pGZjubl2MXN",
        "colab_type": "code",
        "outputId": "ca6ce865-1045-4de8-ded5-4411beaea67a",
        "colab": {
          "base_uri": "https://localhost:8080/",
          "height": 153
        }
      },
      "source": [
        "book_ratings.info()"
      ],
      "execution_count": 13,
      "outputs": [
        {
          "output_type": "stream",
          "text": [
            "<class 'pandas.core.frame.DataFrame'>\n",
            "RangeIndex: 1149780 entries, 0 to 1149779\n",
            "Data columns (total 3 columns):\n",
            "User-ID        1149780 non-null int64\n",
            "ISBN           1149780 non-null object\n",
            "Book-Rating    1149780 non-null int64\n",
            "dtypes: int64(2), object(1)\n",
            "memory usage: 26.3+ MB\n"
          ],
          "name": "stdout"
        }
      ]
    },
    {
      "cell_type": "code",
      "metadata": {
        "id": "pfWT_TED5pwr",
        "colab_type": "code",
        "colab": {}
      },
      "source": [
        "TARGET_COL = 'Book-Rating'"
      ],
      "execution_count": 0,
      "outputs": []
    },
    {
      "cell_type": "code",
      "metadata": {
        "id": "Dxa_hmAg2MaT",
        "colab_type": "code",
        "outputId": "7875efa0-87c4-4982-c2f0-4edaf5650dde",
        "colab": {
          "base_uri": "https://localhost:8080/",
          "height": 34
        }
      },
      "source": [
        "sns.countplot(TARGET_COL, data = book_ratings)"
      ],
      "execution_count": 15,
      "outputs": [
        {
          "output_type": "execute_result",
          "data": {
            "text/plain": [
              "<matplotlib.axes._subplots.AxesSubplot at 0x7f296d721588>"
            ]
          },
          "metadata": {
            "tags": []
          },
          "execution_count": 15
        }
      ]
    },
    {
      "cell_type": "markdown",
      "metadata": {
        "id": "BeJfo2yJ6yWG",
        "colab_type": "text"
      },
      "source": [
        "Drop instances with rating = 0. By definition of the dataset explicit ratings should be from 1 - 10."
      ]
    },
    {
      "cell_type": "code",
      "metadata": {
        "id": "uh_17Ljz6swB",
        "colab_type": "code",
        "colab": {}
      },
      "source": [
        "book_ratings = book_ratings[book_ratings[TARGET_COL] != 0]"
      ],
      "execution_count": 0,
      "outputs": []
    },
    {
      "cell_type": "code",
      "metadata": {
        "id": "DGBl7eBL8j8s",
        "colab_type": "code",
        "outputId": "7da1d883-03e2-4be5-aa46-16d450ba7750",
        "colab": {
          "base_uri": "https://localhost:8080/",
          "height": 34
        }
      },
      "source": [
        "book_ratings.shape"
      ],
      "execution_count": 17,
      "outputs": [
        {
          "output_type": "execute_result",
          "data": {
            "text/plain": [
              "(433671, 3)"
            ]
          },
          "metadata": {
            "tags": []
          },
          "execution_count": 17
        }
      ]
    },
    {
      "cell_type": "code",
      "metadata": {
        "id": "qTqx-bnk6-j9",
        "colab_type": "code",
        "outputId": "a90d652b-9c6a-4678-8c4b-c51fa71a54f9",
        "colab": {
          "base_uri": "https://localhost:8080/",
          "height": 34
        }
      },
      "source": [
        "sns.countplot(TARGET_COL, data = book_ratings)"
      ],
      "execution_count": 18,
      "outputs": [
        {
          "output_type": "execute_result",
          "data": {
            "text/plain": [
              "<matplotlib.axes._subplots.AxesSubplot at 0x7f296d721588>"
            ]
          },
          "metadata": {
            "tags": []
          },
          "execution_count": 18
        }
      ]
    },
    {
      "cell_type": "markdown",
      "metadata": {
        "id": "uiu5a2nH7itN",
        "colab_type": "text"
      },
      "source": [
        "Number of times books were rated"
      ]
    },
    {
      "cell_type": "code",
      "metadata": {
        "id": "dJ7Pi2dw6-u2",
        "colab_type": "code",
        "outputId": "fe22440c-a1de-4ffc-e6c2-0cf37e0141c4",
        "colab": {
          "base_uri": "https://localhost:8080/",
          "height": 34
        }
      },
      "source": [
        "sns.countplot(book_ratings['ISBN'].value_counts())"
      ],
      "execution_count": 19,
      "outputs": [
        {
          "output_type": "execute_result",
          "data": {
            "text/plain": [
              "<matplotlib.axes._subplots.AxesSubplot at 0x7f296d721588>"
            ]
          },
          "metadata": {
            "tags": []
          },
          "execution_count": 19
        }
      ]
    },
    {
      "cell_type": "markdown",
      "metadata": {
        "id": "KrdRXqX9Fgyj",
        "colab_type": "text"
      },
      "source": [
        "Lots of books are ranked only a few times. What if I drop those rarely ranked books?"
      ]
    },
    {
      "cell_type": "code",
      "metadata": {
        "id": "HjbVK7Ae6-yx",
        "colab_type": "code",
        "colab": {}
      },
      "source": [
        "book_ratings['ISBN_count'] = book_ratings.groupby('ISBN')['ISBN'].transform('count')\n",
        "book_ratings['user_count'] = book_ratings.groupby('User-ID')['User-ID'].transform('count')"
      ],
      "execution_count": 0,
      "outputs": []
    },
    {
      "cell_type": "code",
      "metadata": {
        "id": "VpltaCZSHmVg",
        "colab_type": "code",
        "outputId": "9175462e-13c9-406b-9d0d-2a68bfb41f67",
        "colab": {
          "base_uri": "https://localhost:8080/",
          "height": 359
        }
      },
      "source": [
        "book_ratings.head(10)"
      ],
      "execution_count": 21,
      "outputs": [
        {
          "output_type": "execute_result",
          "data": {
            "text/html": [
              "<div>\n",
              "<style scoped>\n",
              "    .dataframe tbody tr th:only-of-type {\n",
              "        vertical-align: middle;\n",
              "    }\n",
              "\n",
              "    .dataframe tbody tr th {\n",
              "        vertical-align: top;\n",
              "    }\n",
              "\n",
              "    .dataframe thead th {\n",
              "        text-align: right;\n",
              "    }\n",
              "</style>\n",
              "<table border=\"1\" class=\"dataframe\">\n",
              "  <thead>\n",
              "    <tr style=\"text-align: right;\">\n",
              "      <th></th>\n",
              "      <th>User-ID</th>\n",
              "      <th>ISBN</th>\n",
              "      <th>Book-Rating</th>\n",
              "      <th>ISBN_count</th>\n",
              "      <th>user_count</th>\n",
              "    </tr>\n",
              "  </thead>\n",
              "  <tbody>\n",
              "    <tr>\n",
              "      <th>1</th>\n",
              "      <td>276726</td>\n",
              "      <td>0155061224</td>\n",
              "      <td>5</td>\n",
              "      <td>1</td>\n",
              "      <td>1</td>\n",
              "    </tr>\n",
              "    <tr>\n",
              "      <th>3</th>\n",
              "      <td>276729</td>\n",
              "      <td>052165615X</td>\n",
              "      <td>3</td>\n",
              "      <td>1</td>\n",
              "      <td>2</td>\n",
              "    </tr>\n",
              "    <tr>\n",
              "      <th>4</th>\n",
              "      <td>276729</td>\n",
              "      <td>0521795028</td>\n",
              "      <td>6</td>\n",
              "      <td>1</td>\n",
              "      <td>2</td>\n",
              "    </tr>\n",
              "    <tr>\n",
              "      <th>6</th>\n",
              "      <td>276736</td>\n",
              "      <td>3257224281</td>\n",
              "      <td>8</td>\n",
              "      <td>4</td>\n",
              "      <td>1</td>\n",
              "    </tr>\n",
              "    <tr>\n",
              "      <th>7</th>\n",
              "      <td>276737</td>\n",
              "      <td>0600570967</td>\n",
              "      <td>6</td>\n",
              "      <td>1</td>\n",
              "      <td>1</td>\n",
              "    </tr>\n",
              "    <tr>\n",
              "      <th>8</th>\n",
              "      <td>276744</td>\n",
              "      <td>038550120X</td>\n",
              "      <td>7</td>\n",
              "      <td>81</td>\n",
              "      <td>1</td>\n",
              "    </tr>\n",
              "    <tr>\n",
              "      <th>9</th>\n",
              "      <td>276745</td>\n",
              "      <td>342310538</td>\n",
              "      <td>10</td>\n",
              "      <td>1</td>\n",
              "      <td>1</td>\n",
              "    </tr>\n",
              "    <tr>\n",
              "      <th>16</th>\n",
              "      <td>276747</td>\n",
              "      <td>0060517794</td>\n",
              "      <td>9</td>\n",
              "      <td>30</td>\n",
              "      <td>5</td>\n",
              "    </tr>\n",
              "    <tr>\n",
              "      <th>19</th>\n",
              "      <td>276747</td>\n",
              "      <td>0671537458</td>\n",
              "      <td>9</td>\n",
              "      <td>17</td>\n",
              "      <td>5</td>\n",
              "    </tr>\n",
              "    <tr>\n",
              "      <th>20</th>\n",
              "      <td>276747</td>\n",
              "      <td>0679776818</td>\n",
              "      <td>8</td>\n",
              "      <td>21</td>\n",
              "      <td>5</td>\n",
              "    </tr>\n",
              "  </tbody>\n",
              "</table>\n",
              "</div>"
            ],
            "text/plain": [
              "    User-ID        ISBN  Book-Rating  ISBN_count  user_count\n",
              "1    276726  0155061224            5           1           1\n",
              "3    276729  052165615X            3           1           2\n",
              "4    276729  0521795028            6           1           2\n",
              "6    276736  3257224281            8           4           1\n",
              "7    276737  0600570967            6           1           1\n",
              "8    276744  038550120X            7          81           1\n",
              "9    276745   342310538           10           1           1\n",
              "16   276747  0060517794            9          30           5\n",
              "19   276747  0671537458            9          17           5\n",
              "20   276747  0679776818            8          21           5"
            ]
          },
          "metadata": {
            "tags": []
          },
          "execution_count": 21
        }
      ]
    },
    {
      "cell_type": "code",
      "metadata": {
        "id": "VEP-I2ct6-4x",
        "colab_type": "code",
        "colab": {}
      },
      "source": [
        "book_ratings_frequent = book_ratings[\n",
        "                                     (book_ratings.ISBN_count > 10) &\n",
        "                                     (book_ratings.user_count > 10)]"
      ],
      "execution_count": 0,
      "outputs": []
    },
    {
      "cell_type": "code",
      "metadata": {
        "id": "IkMG3eoRHHY8",
        "colab_type": "code",
        "outputId": "10771a81-3f8d-47ed-85a9-fd8db32fab80",
        "colab": {
          "base_uri": "https://localhost:8080/",
          "height": 34
        }
      },
      "source": [
        "book_ratings_frequent.shape"
      ],
      "execution_count": 23,
      "outputs": [
        {
          "output_type": "execute_result",
          "data": {
            "text/plain": [
              "(83550, 5)"
            ]
          },
          "metadata": {
            "tags": []
          },
          "execution_count": 23
        }
      ]
    },
    {
      "cell_type": "markdown",
      "metadata": {
        "id": "zi8q0xuXIR86",
        "colab_type": "text"
      },
      "source": [
        "**Split df**"
      ]
    },
    {
      "cell_type": "code",
      "metadata": {
        "id": "cMauSmyUIZRh",
        "colab_type": "code",
        "colab": {}
      },
      "source": [
        "from toai.data.utils import split_df"
      ],
      "execution_count": 0,
      "outputs": []
    },
    {
      "cell_type": "code",
      "metadata": {
        "id": "9OqhBgQDIZk2",
        "colab_type": "code",
        "colab": {}
      },
      "source": [
        "train_df, val_df, test_df = split_df(book_ratings_frequent, 0.4)"
      ],
      "execution_count": 0,
      "outputs": []
    },
    {
      "cell_type": "code",
      "metadata": {
        "id": "RAYkt-u6IZpL",
        "colab_type": "code",
        "outputId": "67bde81d-ebfc-419e-9192-548066bb43ee",
        "colab": {
          "base_uri": "https://localhost:8080/",
          "height": 34
        }
      },
      "source": [
        "[x.shape for x in (train_df, val_df, test_df)]"
      ],
      "execution_count": 26,
      "outputs": [
        {
          "output_type": "execute_result",
          "data": {
            "text/plain": [
              "[(50130, 5), (16710, 5), (16710, 5)]"
            ]
          },
          "metadata": {
            "tags": []
          },
          "execution_count": 26
        }
      ]
    },
    {
      "cell_type": "markdown",
      "metadata": {
        "id": "M4gfZJcSJycH",
        "colab_type": "text"
      },
      "source": [
        "**Preprocess**"
      ]
    },
    {
      "cell_type": "code",
      "metadata": {
        "id": "jqQY-gDmIZuY",
        "colab_type": "code",
        "colab": {}
      },
      "source": [
        "scaler = MinMaxScaler(feature_range=(0, 1))\n",
        "encoder = CategoricalEncoder()"
      ],
      "execution_count": 0,
      "outputs": []
    },
    {
      "cell_type": "code",
      "metadata": {
        "id": "4fLjAuk4IZ1A",
        "colab_type": "code",
        "outputId": "761e87b3-8e4b-44d8-e2ad-41a585a7e2f1",
        "colab": {
          "base_uri": "https://localhost:8080/",
          "height": 34
        }
      },
      "source": [
        "scaler.fit(train_df[[TARGET_COL]])\n",
        "encoder.fit(train_df)"
      ],
      "execution_count": 28,
      "outputs": [
        {
          "output_type": "execute_result",
          "data": {
            "text/plain": [
              "CategoricalEncoder(columns=None)"
            ]
          },
          "metadata": {
            "tags": []
          },
          "execution_count": 28
        }
      ]
    },
    {
      "cell_type": "code",
      "metadata": {
        "id": "AQWwiXRRIZ5O",
        "colab_type": "code",
        "outputId": "5178aab1-2d49-4639-a9f4-42f335a098cf",
        "colab": {
          "base_uri": "https://localhost:8080/",
          "height": 34
        }
      },
      "source": [
        "joblib.dump(scaler, TEMP_DIR / \"scaler.pickle\")\n",
        "joblib.dump(scaler, TEMP_DIR / \"encoder.pickle\")"
      ],
      "execution_count": 29,
      "outputs": [
        {
          "output_type": "execute_result",
          "data": {
            "text/plain": [
              "['temp/book-recommendations/encoder.pickle']"
            ]
          },
          "metadata": {
            "tags": []
          },
          "execution_count": 29
        }
      ]
    },
    {
      "cell_type": "code",
      "metadata": {
        "id": "t6wEnlatIZjQ",
        "colab_type": "code",
        "outputId": "885b0063-b947-4ec6-9705-6a9c7e7b2a12",
        "colab": {
          "base_uri": "https://localhost:8080/",
          "height": 139
        }
      },
      "source": [
        "train_df[TARGET_COL] = scaler.transform(train_df[[TARGET_COL]])\n",
        "train_df = encoder.transform(train_df)"
      ],
      "execution_count": 30,
      "outputs": [
        {
          "output_type": "stream",
          "text": [
            "/usr/local/lib/python3.6/dist-packages/ipykernel_launcher.py:1: SettingWithCopyWarning: \n",
            "A value is trying to be set on a copy of a slice from a DataFrame.\n",
            "Try using .loc[row_indexer,col_indexer] = value instead\n",
            "\n",
            "See the caveats in the documentation: http://pandas.pydata.org/pandas-docs/stable/user_guide/indexing.html#returning-a-view-versus-a-copy\n",
            "  \"\"\"Entry point for launching an IPython kernel.\n"
          ],
          "name": "stderr"
        }
      ]
    },
    {
      "cell_type": "code",
      "metadata": {
        "id": "YJw2NSVSc2UG",
        "colab_type": "code",
        "outputId": "95d2b6ad-e8ba-4a4e-aef4-6b0800567c03",
        "colab": {
          "base_uri": "https://localhost:8080/",
          "height": 187
        }
      },
      "source": [
        "train_df.info()"
      ],
      "execution_count": 31,
      "outputs": [
        {
          "output_type": "stream",
          "text": [
            "<class 'pandas.core.frame.DataFrame'>\n",
            "RangeIndex: 50130 entries, 0 to 50129\n",
            "Data columns (total 5 columns):\n",
            "User-ID        50130 non-null int64\n",
            "ISBN           50130 non-null int64\n",
            "Book-Rating    50130 non-null int64\n",
            "ISBN_count     50130 non-null int64\n",
            "user_count     50130 non-null int64\n",
            "dtypes: int64(5)\n",
            "memory usage: 1.9 MB\n"
          ],
          "name": "stdout"
        }
      ]
    },
    {
      "cell_type": "code",
      "metadata": {
        "id": "p9FeOlnqc7Pc",
        "colab_type": "code",
        "outputId": "15ecd698-d655-497a-d946-61c6b1489652",
        "colab": {
          "base_uri": "https://localhost:8080/",
          "height": 204
        }
      },
      "source": [
        "train_df.head(5)"
      ],
      "execution_count": 32,
      "outputs": [
        {
          "output_type": "execute_result",
          "data": {
            "text/html": [
              "<div>\n",
              "<style scoped>\n",
              "    .dataframe tbody tr th:only-of-type {\n",
              "        vertical-align: middle;\n",
              "    }\n",
              "\n",
              "    .dataframe tbody tr th {\n",
              "        vertical-align: top;\n",
              "    }\n",
              "\n",
              "    .dataframe thead th {\n",
              "        text-align: right;\n",
              "    }\n",
              "</style>\n",
              "<table border=\"1\" class=\"dataframe\">\n",
              "  <thead>\n",
              "    <tr style=\"text-align: right;\">\n",
              "      <th></th>\n",
              "      <th>User-ID</th>\n",
              "      <th>ISBN</th>\n",
              "      <th>Book-Rating</th>\n",
              "      <th>ISBN_count</th>\n",
              "      <th>user_count</th>\n",
              "    </tr>\n",
              "  </thead>\n",
              "  <tbody>\n",
              "    <tr>\n",
              "      <th>0</th>\n",
              "      <td>2146</td>\n",
              "      <td>595</td>\n",
              "      <td>0</td>\n",
              "      <td>11</td>\n",
              "      <td>279</td>\n",
              "    </tr>\n",
              "    <tr>\n",
              "      <th>1</th>\n",
              "      <td>3770</td>\n",
              "      <td>204</td>\n",
              "      <td>0</td>\n",
              "      <td>12</td>\n",
              "      <td>87</td>\n",
              "    </tr>\n",
              "    <tr>\n",
              "      <th>2</th>\n",
              "      <td>4132</td>\n",
              "      <td>876</td>\n",
              "      <td>1</td>\n",
              "      <td>4</td>\n",
              "      <td>22</td>\n",
              "    </tr>\n",
              "    <tr>\n",
              "      <th>3</th>\n",
              "      <td>2935</td>\n",
              "      <td>488</td>\n",
              "      <td>0</td>\n",
              "      <td>116</td>\n",
              "      <td>6</td>\n",
              "    </tr>\n",
              "    <tr>\n",
              "      <th>4</th>\n",
              "      <td>1541</td>\n",
              "      <td>3413</td>\n",
              "      <td>0</td>\n",
              "      <td>86</td>\n",
              "      <td>18</td>\n",
              "    </tr>\n",
              "  </tbody>\n",
              "</table>\n",
              "</div>"
            ],
            "text/plain": [
              "   User-ID  ISBN  Book-Rating  ISBN_count  user_count\n",
              "0     2146   595            0          11         279\n",
              "1     3770   204            0          12          87\n",
              "2     4132   876            1           4          22\n",
              "3     2935   488            0         116           6\n",
              "4     1541  3413            0          86          18"
            ]
          },
          "metadata": {
            "tags": []
          },
          "execution_count": 32
        }
      ]
    },
    {
      "cell_type": "code",
      "metadata": {
        "id": "uqS7sSTFKjYB",
        "colab_type": "code",
        "colab": {}
      },
      "source": [
        "val_df[TARGET_COL] = scaler.transform(val_df[[TARGET_COL]])\n",
        "val_df = encoder.transform(val_df)"
      ],
      "execution_count": 0,
      "outputs": []
    },
    {
      "cell_type": "markdown",
      "metadata": {
        "id": "3y20040oM_-3",
        "colab_type": "text"
      },
      "source": [
        "**Collaborative filtering**"
      ]
    },
    {
      "cell_type": "code",
      "metadata": {
        "id": "Sfbm0o59M-0S",
        "colab_type": "code",
        "colab": {}
      },
      "source": [
        "n_users = train_df['User-ID'].nunique() + 100\n",
        "n_books = train_df['ISBN'].nunique() + 100"
      ],
      "execution_count": 0,
      "outputs": []
    },
    {
      "cell_type": "code",
      "metadata": {
        "id": "ZGZ1NVk0KjmB",
        "colab_type": "code",
        "outputId": "ee45264c-a3d1-4b6c-ce67-c4fd38e84093",
        "colab": {
          "base_uri": "https://localhost:8080/",
          "height": 34
        }
      },
      "source": [
        "n_users, n_books"
      ],
      "execution_count": 35,
      "outputs": [
        {
          "output_type": "execute_result",
          "data": {
            "text/plain": [
              "(5994, 5043)"
            ]
          },
          "metadata": {
            "tags": []
          },
          "execution_count": 35
        }
      ]
    },
    {
      "cell_type": "code",
      "metadata": {
        "id": "OWx-y_LsP06T",
        "colab_type": "code",
        "colab": {}
      },
      "source": [
        "BATCH_SIZE = 128\n",
        "AUTOTUNE = tf.data.experimental.AUTOTUNE"
      ],
      "execution_count": 0,
      "outputs": []
    },
    {
      "cell_type": "code",
      "metadata": {
        "id": "aJ8p5E6rKjuv",
        "colab_type": "code",
        "colab": {}
      },
      "source": [
        "train_dataset = (\n",
        "    tf.data.Dataset.zip(\n",
        "        (\n",
        "            tf.data.Dataset.from_tensor_slices(\n",
        "                (train_df['User-ID'].values, train_df['ISBN'].astype(np.int64).values)\n",
        "            ),\n",
        "            tf.data.Dataset.from_tensor_slices(train_df[TARGET_COL].values),\n",
        "        )\n",
        "    )\n",
        "    .cache()\n",
        "    .repeat()\n",
        "    .shuffle(len(train_df))\n",
        "    .batch(BATCH_SIZE)\n",
        "    .prefetch(AUTOTUNE)\n",
        ")"
      ],
      "execution_count": 0,
      "outputs": []
    },
    {
      "cell_type": "code",
      "metadata": {
        "id": "3si-DeJxIZfS",
        "colab_type": "code",
        "colab": {}
      },
      "source": [
        "val_dataset = (\n",
        "    tf.data.Dataset.zip(\n",
        "        (\n",
        "            tf.data.Dataset.from_tensor_slices(\n",
        "                (val_df['User-ID'].values, val_df['ISBN'].values)\n",
        "            ),\n",
        "            tf.data.Dataset.from_tensor_slices(val_df[TARGET_COL].values),\n",
        "        )\n",
        "    )\n",
        "    .batch(BATCH_SIZE)\n",
        "    .prefetch(AUTOTUNE)\n",
        ")"
      ],
      "execution_count": 0,
      "outputs": []
    },
    {
      "cell_type": "code",
      "metadata": {
        "id": "l0mI-Ru8P8km",
        "colab_type": "code",
        "colab": {}
      },
      "source": [
        "train_data_steps = len(train_df) // BATCH_SIZE"
      ],
      "execution_count": 0,
      "outputs": []
    },
    {
      "cell_type": "code",
      "metadata": {
        "id": "r3xr1BJxP81D",
        "colab_type": "code",
        "colab": {}
      },
      "source": [
        "def make_dot_model(\n",
        "    user_dim, item_dim, embedding_dim,\n",
        "):\n",
        "    user_input = keras.layers.Input(shape=(1,))\n",
        "    user_embedding = keras.layers.Embedding(user_dim, embedding_dim, input_length=1,)(\n",
        "        user_input\n",
        "    )\n",
        "    user_embedding = keras.layers.Flatten()(user_embedding)\n",
        "    user_bias = keras.layers.Embedding(user_dim, 1, input_length=1,)(user_input)\n",
        "    user_bias = keras.layers.Flatten()(user_bias)\n",
        "\n",
        "    item_input = keras.layers.Input(shape=(1,))\n",
        "    item_embedding = keras.layers.Embedding(item_dim, embedding_dim, input_length=1,)(\n",
        "        item_input\n",
        "    )\n",
        "    item_embedding = keras.layers.Flatten()(item_embedding)\n",
        "    item_bias = keras.layers.Embedding(item_dim, 1, input_length=1,)(item_input)\n",
        "    item_bias = keras.layers.Flatten()(item_bias)\n",
        "\n",
        "    dot_product = keras.layers.Dot(axes=1)([user_embedding, item_embedding])\n",
        "    logits = keras.layers.Add()([dot_product, user_bias, item_bias])\n",
        "    outputs = keras.layers.Activation(keras.activations.sigmoid)(logits)\n",
        "\n",
        "    model = keras.Model(inputs=[user_input, item_input], outputs=outputs)\n",
        "    return model"
      ],
      "execution_count": 0,
      "outputs": []
    },
    {
      "cell_type": "code",
      "metadata": {
        "id": "z4q9g6CSP89X",
        "colab_type": "code",
        "colab": {}
      },
      "source": [
        "dot_model = make_dot_model(n_users, n_books, 128)"
      ],
      "execution_count": 0,
      "outputs": []
    },
    {
      "cell_type": "code",
      "metadata": {
        "id": "ZRLEELdVP9C7",
        "colab_type": "code",
        "outputId": "44a2cecf-a56a-4a49-e45f-3da3a86e0dec",
        "colab": {
          "base_uri": "https://localhost:8080/",
          "height": 646
        }
      },
      "source": [
        "dot_model.summary()"
      ],
      "execution_count": 42,
      "outputs": [
        {
          "output_type": "stream",
          "text": [
            "Model: \"model\"\n",
            "__________________________________________________________________________________________________\n",
            "Layer (type)                    Output Shape         Param #     Connected to                     \n",
            "==================================================================================================\n",
            "input_1 (InputLayer)            [(None, 1)]          0                                            \n",
            "__________________________________________________________________________________________________\n",
            "input_2 (InputLayer)            [(None, 1)]          0                                            \n",
            "__________________________________________________________________________________________________\n",
            "embedding (Embedding)           (None, 1, 128)       767232      input_1[0][0]                    \n",
            "__________________________________________________________________________________________________\n",
            "embedding_2 (Embedding)         (None, 1, 128)       645504      input_2[0][0]                    \n",
            "__________________________________________________________________________________________________\n",
            "flatten (Flatten)               (None, 128)          0           embedding[0][0]                  \n",
            "__________________________________________________________________________________________________\n",
            "flatten_2 (Flatten)             (None, 128)          0           embedding_2[0][0]                \n",
            "__________________________________________________________________________________________________\n",
            "embedding_1 (Embedding)         (None, 1, 1)         5994        input_1[0][0]                    \n",
            "__________________________________________________________________________________________________\n",
            "embedding_3 (Embedding)         (None, 1, 1)         5043        input_2[0][0]                    \n",
            "__________________________________________________________________________________________________\n",
            "dot (Dot)                       (None, 1)            0           flatten[0][0]                    \n",
            "                                                                 flatten_2[0][0]                  \n",
            "__________________________________________________________________________________________________\n",
            "flatten_1 (Flatten)             (None, 1)            0           embedding_1[0][0]                \n",
            "__________________________________________________________________________________________________\n",
            "flatten_3 (Flatten)             (None, 1)            0           embedding_3[0][0]                \n",
            "__________________________________________________________________________________________________\n",
            "add (Add)                       (None, 1)            0           dot[0][0]                        \n",
            "                                                                 flatten_1[0][0]                  \n",
            "                                                                 flatten_3[0][0]                  \n",
            "__________________________________________________________________________________________________\n",
            "activation (Activation)         (None, 1)            0           add[0][0]                        \n",
            "==================================================================================================\n",
            "Total params: 1,423,773\n",
            "Trainable params: 1,423,773\n",
            "Non-trainable params: 0\n",
            "__________________________________________________________________________________________________\n"
          ],
          "name": "stdout"
        }
      ]
    },
    {
      "cell_type": "code",
      "metadata": {
        "id": "ODdPT-v5Qw6b",
        "colab_type": "code",
        "colab": {}
      },
      "source": [
        "dot_model.compile(\n",
        "    optimizer=keras.optimizers.Adam(3e-4),\n",
        "    loss=keras.losses.mse,\n",
        "    metrics=[keras.metrics.mae],\n",
        ")"
      ],
      "execution_count": 0,
      "outputs": []
    },
    {
      "cell_type": "code",
      "metadata": {
        "id": "AmLJq3MpQxJe",
        "colab_type": "code",
        "outputId": "14859930-0c89-4414-ed9d-05eea90cd8e9",
        "colab": {
          "base_uri": "https://localhost:8080/",
          "height": 1000
        }
      },
      "source": [
        "PATIENCE = 5\n",
        "\n",
        "dot_model_history = dot_model.fit(\n",
        "    train_dataset,\n",
        "    steps_per_epoch=train_data_steps,\n",
        "    validation_data=val_dataset,\n",
        "    epochs=70,\n",
        "    callbacks=[\n",
        "        tf.keras.callbacks.ReduceLROnPlateau(factor=0.3, patience=PATIENCE),\n",
        "        tf.keras.callbacks.EarlyStopping(\n",
        "            patience=PATIENCE * 2, restore_best_weights=True\n",
        "        ),\n",
        "    ],\n",
        "    verbose=2,\n",
        ")"
      ],
      "execution_count": 44,
      "outputs": [
        {
          "output_type": "stream",
          "text": [
            "Train for 391 steps, validate for 131 steps\n",
            "Epoch 1/70\n",
            "391/391 - 8s - loss: 0.2467 - mean_absolute_error: 0.4965 - val_loss: 0.2450 - val_mean_absolute_error: 0.4948\n",
            "Epoch 2/70\n",
            "391/391 - 6s - loss: 0.2388 - mean_absolute_error: 0.4884 - val_loss: 0.2401 - val_mean_absolute_error: 0.4897\n",
            "Epoch 3/70\n",
            "391/391 - 6s - loss: 0.2297 - mean_absolute_error: 0.4788 - val_loss: 0.2353 - val_mean_absolute_error: 0.4846\n",
            "Epoch 4/70\n",
            "391/391 - 6s - loss: 0.2193 - mean_absolute_error: 0.4676 - val_loss: 0.2306 - val_mean_absolute_error: 0.4794\n",
            "Epoch 5/70\n",
            "391/391 - 6s - loss: 0.2069 - mean_absolute_error: 0.4537 - val_loss: 0.2259 - val_mean_absolute_error: 0.4740\n",
            "Epoch 6/70\n",
            "391/391 - 6s - loss: 0.1924 - mean_absolute_error: 0.4369 - val_loss: 0.2210 - val_mean_absolute_error: 0.4683\n",
            "Epoch 7/70\n",
            "391/391 - 6s - loss: 0.1762 - mean_absolute_error: 0.4172 - val_loss: 0.2160 - val_mean_absolute_error: 0.4621\n",
            "Epoch 8/70\n",
            "391/391 - 6s - loss: 0.1589 - mean_absolute_error: 0.3950 - val_loss: 0.2109 - val_mean_absolute_error: 0.4555\n",
            "Epoch 9/70\n",
            "391/391 - 6s - loss: 0.1413 - mean_absolute_error: 0.3710 - val_loss: 0.2059 - val_mean_absolute_error: 0.4488\n",
            "Epoch 10/70\n",
            "391/391 - 6s - loss: 0.1236 - mean_absolute_error: 0.3452 - val_loss: 0.2010 - val_mean_absolute_error: 0.4417\n",
            "Epoch 11/70\n",
            "391/391 - 6s - loss: 0.1074 - mean_absolute_error: 0.3201 - val_loss: 0.1963 - val_mean_absolute_error: 0.4348\n",
            "Epoch 12/70\n",
            "391/391 - 6s - loss: 0.0920 - mean_absolute_error: 0.2945 - val_loss: 0.1920 - val_mean_absolute_error: 0.4279\n",
            "Epoch 13/70\n",
            "391/391 - 6s - loss: 0.0787 - mean_absolute_error: 0.2706 - val_loss: 0.1881 - val_mean_absolute_error: 0.4214\n",
            "Epoch 14/70\n",
            "391/391 - 6s - loss: 0.0664 - mean_absolute_error: 0.2470 - val_loss: 0.1847 - val_mean_absolute_error: 0.4153\n",
            "Epoch 15/70\n",
            "391/391 - 6s - loss: 0.0558 - mean_absolute_error: 0.2248 - val_loss: 0.1816 - val_mean_absolute_error: 0.4094\n",
            "Epoch 16/70\n",
            "391/391 - 6s - loss: 0.0469 - mean_absolute_error: 0.2047 - val_loss: 0.1789 - val_mean_absolute_error: 0.4039\n",
            "Epoch 17/70\n",
            "391/391 - 6s - loss: 0.0390 - mean_absolute_error: 0.1857 - val_loss: 0.1765 - val_mean_absolute_error: 0.3988\n",
            "Epoch 18/70\n",
            "391/391 - 6s - loss: 0.0324 - mean_absolute_error: 0.1683 - val_loss: 0.1744 - val_mean_absolute_error: 0.3941\n",
            "Epoch 19/70\n",
            "391/391 - 6s - loss: 0.0269 - mean_absolute_error: 0.1525 - val_loss: 0.1726 - val_mean_absolute_error: 0.3895\n",
            "Epoch 20/70\n",
            "391/391 - 6s - loss: 0.0221 - mean_absolute_error: 0.1377 - val_loss: 0.1710 - val_mean_absolute_error: 0.3854\n",
            "Epoch 21/70\n",
            "391/391 - 6s - loss: 0.0183 - mean_absolute_error: 0.1246 - val_loss: 0.1696 - val_mean_absolute_error: 0.3814\n",
            "Epoch 22/70\n",
            "391/391 - 6s - loss: 0.0150 - mean_absolute_error: 0.1124 - val_loss: 0.1684 - val_mean_absolute_error: 0.3776\n",
            "Epoch 23/70\n",
            "391/391 - 6s - loss: 0.0123 - mean_absolute_error: 0.1014 - val_loss: 0.1672 - val_mean_absolute_error: 0.3740\n",
            "Epoch 24/70\n",
            "391/391 - 6s - loss: 0.0102 - mean_absolute_error: 0.0921 - val_loss: 0.1663 - val_mean_absolute_error: 0.3707\n",
            "Epoch 25/70\n",
            "391/391 - 6s - loss: 0.0083 - mean_absolute_error: 0.0830 - val_loss: 0.1654 - val_mean_absolute_error: 0.3674\n",
            "Epoch 26/70\n",
            "391/391 - 6s - loss: 0.0068 - mean_absolute_error: 0.0751 - val_loss: 0.1647 - val_mean_absolute_error: 0.3643\n",
            "Epoch 27/70\n",
            "391/391 - 6s - loss: 0.0056 - mean_absolute_error: 0.0678 - val_loss: 0.1640 - val_mean_absolute_error: 0.3613\n",
            "Epoch 28/70\n",
            "391/391 - 6s - loss: 0.0046 - mean_absolute_error: 0.0612 - val_loss: 0.1634 - val_mean_absolute_error: 0.3585\n",
            "Epoch 29/70\n",
            "391/391 - 6s - loss: 0.0038 - mean_absolute_error: 0.0556 - val_loss: 0.1629 - val_mean_absolute_error: 0.3557\n",
            "Epoch 30/70\n",
            "391/391 - 6s - loss: 0.0031 - mean_absolute_error: 0.0500 - val_loss: 0.1624 - val_mean_absolute_error: 0.3531\n",
            "Epoch 31/70\n",
            "391/391 - 6s - loss: 0.0025 - mean_absolute_error: 0.0453 - val_loss: 0.1620 - val_mean_absolute_error: 0.3505\n",
            "Epoch 32/70\n",
            "391/391 - 6s - loss: 0.0021 - mean_absolute_error: 0.0411 - val_loss: 0.1617 - val_mean_absolute_error: 0.3481\n",
            "Epoch 33/70\n",
            "391/391 - 6s - loss: 0.0017 - mean_absolute_error: 0.0371 - val_loss: 0.1614 - val_mean_absolute_error: 0.3457\n",
            "Epoch 34/70\n",
            "391/391 - 6s - loss: 0.0014 - mean_absolute_error: 0.0338 - val_loss: 0.1612 - val_mean_absolute_error: 0.3434\n",
            "Epoch 35/70\n",
            "391/391 - 6s - loss: 0.0012 - mean_absolute_error: 0.0306 - val_loss: 0.1609 - val_mean_absolute_error: 0.3412\n",
            "Epoch 36/70\n",
            "391/391 - 6s - loss: 9.5132e-04 - mean_absolute_error: 0.0278 - val_loss: 0.1608 - val_mean_absolute_error: 0.3391\n",
            "Epoch 37/70\n",
            "391/391 - 6s - loss: 7.8953e-04 - mean_absolute_error: 0.0253 - val_loss: 0.1606 - val_mean_absolute_error: 0.3371\n",
            "Epoch 38/70\n",
            "391/391 - 6s - loss: 6.5022e-04 - mean_absolute_error: 0.0230 - val_loss: 0.1605 - val_mean_absolute_error: 0.3351\n",
            "Epoch 39/70\n",
            "391/391 - 6s - loss: 5.3639e-04 - mean_absolute_error: 0.0209 - val_loss: 0.1604 - val_mean_absolute_error: 0.3332\n",
            "Epoch 40/70\n",
            "391/391 - 6s - loss: 4.4568e-04 - mean_absolute_error: 0.0190 - val_loss: 0.1604 - val_mean_absolute_error: 0.3313\n",
            "Epoch 41/70\n",
            "391/391 - 6s - loss: 3.7266e-04 - mean_absolute_error: 0.0174 - val_loss: 0.1603 - val_mean_absolute_error: 0.3296\n",
            "Epoch 42/70\n",
            "391/391 - 6s - loss: 3.0889e-04 - mean_absolute_error: 0.0158 - val_loss: 0.1603 - val_mean_absolute_error: 0.3278\n",
            "Epoch 43/70\n",
            "391/391 - 6s - loss: 2.5892e-04 - mean_absolute_error: 0.0145 - val_loss: 0.1603 - val_mean_absolute_error: 0.3262\n",
            "Epoch 44/70\n",
            "391/391 - 7s - loss: 2.1592e-04 - mean_absolute_error: 0.0133 - val_loss: 0.1603 - val_mean_absolute_error: 0.3246\n",
            "Epoch 45/70\n",
            "391/391 - 6s - loss: 1.8178e-04 - mean_absolute_error: 0.0122 - val_loss: 0.1603 - val_mean_absolute_error: 0.3231\n",
            "Epoch 46/70\n",
            "391/391 - 6s - loss: 1.6013e-04 - mean_absolute_error: 0.0114 - val_loss: 0.1603 - val_mean_absolute_error: 0.3226\n",
            "Epoch 47/70\n",
            "391/391 - 6s - loss: 1.5068e-04 - mean_absolute_error: 0.0111 - val_loss: 0.1603 - val_mean_absolute_error: 0.3221\n",
            "Epoch 48/70\n",
            "391/391 - 6s - loss: 1.4162e-04 - mean_absolute_error: 0.0108 - val_loss: 0.1603 - val_mean_absolute_error: 0.3216\n",
            "Epoch 49/70\n",
            "391/391 - 6s - loss: 1.3282e-04 - mean_absolute_error: 0.0104 - val_loss: 0.1603 - val_mean_absolute_error: 0.3211\n",
            "Epoch 50/70\n",
            "391/391 - 6s - loss: 1.2512e-04 - mean_absolute_error: 0.0101 - val_loss: 0.1603 - val_mean_absolute_error: 0.3205\n",
            "Epoch 51/70\n",
            "391/391 - 6s - loss: 1.1890e-04 - mean_absolute_error: 0.0099 - val_loss: 0.1603 - val_mean_absolute_error: 0.3203\n",
            "Epoch 52/70\n",
            "391/391 - 6s - loss: 1.1671e-04 - mean_absolute_error: 0.0098 - val_loss: 0.1603 - val_mean_absolute_error: 0.3202\n"
          ],
          "name": "stdout"
        }
      ]
    },
    {
      "cell_type": "markdown",
      "metadata": {
        "id": "67pKgJAVliwW",
        "colab_type": "text"
      },
      "source": [
        "**Concat model**"
      ]
    },
    {
      "cell_type": "code",
      "metadata": {
        "id": "PRlG03VVlmtc",
        "colab_type": "code",
        "colab": {}
      },
      "source": [
        "def make_concat_model(\n",
        "    user_dim,\n",
        "    item_dim,\n",
        "    embedding_dim,\n",
        "    layer_size=256,\n",
        "    dropout_rate=0.0,\n",
        "    regularization=None,\n",
        "):\n",
        "    user_input = keras.layers.Input(shape=(1,))\n",
        "    user_embedding = keras.layers.Embedding(user_dim, embedding_dim, input_length=1,)(\n",
        "        user_input\n",
        "    )\n",
        "    user_embedding = keras.layers.Flatten()(user_embedding)\n",
        "    user_bias = keras.layers.Embedding(user_dim, 1, input_length=1,)(user_input)\n",
        "    user_bias = keras.layers.Flatten()(user_bias)\n",
        "\n",
        "    item_input = keras.layers.Input(shape=(1,))\n",
        "    item_embedding = keras.layers.Embedding(item_dim, embedding_dim, input_length=1,)(\n",
        "        item_input\n",
        "    )\n",
        "    item_embedding = keras.layers.Flatten()(item_embedding)\n",
        "    item_bias = keras.layers.Embedding(item_dim, 1, input_length=1,)(item_input)\n",
        "    item_bias = keras.layers.Flatten()(item_bias)\n",
        "\n",
        "    x = keras.layers.Concatenate()(\n",
        "        [user_embedding, user_bias, item_embedding, item_bias]\n",
        "    )\n",
        "    x = keras.layers.BatchNormalization()(x)\n",
        "    x = keras.layers.Dropout(dropout_rate)(x)\n",
        "    x = keras.layers.Dense(\n",
        "        layer_size,\n",
        "        kernel_initializer=keras.initializers.he_uniform(),\n",
        "        kernel_regularizer=regularization and keras.regularizers.l1_l2(*regularization),\n",
        "    )(x)\n",
        "    x = keras.layers.LeakyReLU()(x)\n",
        "    x = keras.layers.BatchNormalization()(x)\n",
        "    x = keras.layers.Dropout(dropout_rate)(x)\n",
        "    x = keras.layers.Dense(1)(x)\n",
        "    outputs = keras.layers.Activation(keras.activations.sigmoid)(x)\n",
        "\n",
        "    model = keras.Model(inputs=[user_input, item_input], outputs=outputs)\n",
        "    return model"
      ],
      "execution_count": 0,
      "outputs": []
    },
    {
      "cell_type": "code",
      "metadata": {
        "id": "o8ba0JKWlnDl",
        "colab_type": "code",
        "colab": {}
      },
      "source": [
        "concat_model = make_concat_model(\n",
        "    n_users,\n",
        "    n_books,\n",
        "    128,\n",
        "    layer_size=256,\n",
        "    dropout_rate=0.2,\n",
        "    regularization=(1e-8, 1e-6),\n",
        ")"
      ],
      "execution_count": 0,
      "outputs": []
    },
    {
      "cell_type": "code",
      "metadata": {
        "id": "A9mBnmiulnNQ",
        "colab_type": "code",
        "colab": {}
      },
      "source": [
        "concat_model.compile(\n",
        "    optimizer=keras.optimizers.Adam(3e-4),\n",
        "    loss=keras.losses.mse,\n",
        "    metrics=[keras.metrics.mae],\n",
        ")"
      ],
      "execution_count": 0,
      "outputs": []
    },
    {
      "cell_type": "code",
      "metadata": {
        "id": "7gB3EFV0lnUO",
        "colab_type": "code",
        "outputId": "c6ffdc1c-4e33-4539-964c-805fd993e772",
        "colab": {
          "base_uri": "https://localhost:8080/",
          "height": 462
        }
      },
      "source": [
        "PATIENCE = 5\n",
        "\n",
        "concat_model_history = concat_model.fit(\n",
        "    train_dataset,\n",
        "    steps_per_epoch=train_data_steps,\n",
        "    validation_data=val_dataset,\n",
        "    epochs=70,\n",
        "    callbacks=[\n",
        "        tf.keras.callbacks.ReduceLROnPlateau(factor=0.3, patience=PATIENCE),\n",
        "        tf.keras.callbacks.EarlyStopping(\n",
        "            patience=PATIENCE * 2, restore_best_weights=True\n",
        "        ),\n",
        "    ],\n",
        "    verbose=2,\n",
        ")"
      ],
      "execution_count": 48,
      "outputs": [
        {
          "output_type": "stream",
          "text": [
            "Train for 391 steps, validate for 131 steps\n",
            "Epoch 1/70\n",
            "391/391 - 10s - loss: 0.1963 - mean_absolute_error: 0.3643 - val_loss: 0.1550 - val_mean_absolute_error: 0.3367\n",
            "Epoch 2/70\n",
            "391/391 - 8s - loss: 0.1301 - mean_absolute_error: 0.2475 - val_loss: 0.1387 - val_mean_absolute_error: 0.2521\n",
            "Epoch 3/70\n",
            "391/391 - 8s - loss: 0.1139 - mean_absolute_error: 0.2141 - val_loss: 0.1398 - val_mean_absolute_error: 0.2383\n",
            "Epoch 4/70\n",
            "391/391 - 9s - loss: 0.1028 - mean_absolute_error: 0.1952 - val_loss: 0.1418 - val_mean_absolute_error: 0.2366\n",
            "Epoch 5/70\n",
            "391/391 - 8s - loss: 0.0929 - mean_absolute_error: 0.1811 - val_loss: 0.1437 - val_mean_absolute_error: 0.2358\n",
            "Epoch 6/70\n",
            "391/391 - 8s - loss: 0.0872 - mean_absolute_error: 0.1724 - val_loss: 0.1443 - val_mean_absolute_error: 0.2336\n",
            "Epoch 7/70\n",
            "391/391 - 8s - loss: 0.0812 - mean_absolute_error: 0.1645 - val_loss: 0.1457 - val_mean_absolute_error: 0.2339\n",
            "Epoch 8/70\n",
            "391/391 - 8s - loss: 0.0728 - mean_absolute_error: 0.1525 - val_loss: 0.1452 - val_mean_absolute_error: 0.2323\n",
            "Epoch 9/70\n",
            "391/391 - 8s - loss: 0.0679 - mean_absolute_error: 0.1454 - val_loss: 0.1454 - val_mean_absolute_error: 0.2320\n",
            "Epoch 10/70\n",
            "391/391 - 8s - loss: 0.0654 - mean_absolute_error: 0.1422 - val_loss: 0.1454 - val_mean_absolute_error: 0.2314\n",
            "Epoch 11/70\n",
            "391/391 - 8s - loss: 0.0629 - mean_absolute_error: 0.1381 - val_loss: 0.1470 - val_mean_absolute_error: 0.2325\n",
            "Epoch 12/70\n",
            "391/391 - 8s - loss: 0.0613 - mean_absolute_error: 0.1356 - val_loss: 0.1477 - val_mean_absolute_error: 0.2327\n"
          ],
          "name": "stdout"
        }
      ]
    },
    {
      "cell_type": "markdown",
      "metadata": {
        "id": "H9Gm5fh4g_7-",
        "colab_type": "text"
      },
      "source": [
        "**Mean model as baseline**"
      ]
    },
    {
      "cell_type": "code",
      "metadata": {
        "id": "XsY2eOjcQxWy",
        "colab_type": "code",
        "colab": {}
      },
      "source": [
        "class MeanModel(keras.Model):\n",
        "    def __init__(self, mean):\n",
        "        super().__init__()\n",
        "        self.mean = tf.constant(mean, dtype=tf.float32)\n",
        "\n",
        "    def call(self, inputs):\n",
        "        return tf.ones_like(inputs[0], dtype=tf.float32) * self.mean"
      ],
      "execution_count": 0,
      "outputs": []
    },
    {
      "cell_type": "code",
      "metadata": {
        "id": "F_IDe_bjhFia",
        "colab_type": "code",
        "colab": {}
      },
      "source": [
        "mean_model = MeanModel(train_df[TARGET_COL].mean())"
      ],
      "execution_count": 0,
      "outputs": []
    },
    {
      "cell_type": "code",
      "metadata": {
        "id": "PAP2hfAMhFth",
        "colab_type": "code",
        "colab": {}
      },
      "source": [
        "mean_model.compile(\n",
        "    optimizer=keras.optimizers.Adam(3e-4), loss=keras.losses.mse,\n",
        ")"
      ],
      "execution_count": 0,
      "outputs": []
    },
    {
      "cell_type": "markdown",
      "metadata": {
        "id": "36fRS872hX6N",
        "colab_type": "text"
      },
      "source": [
        "**Evaluate models**"
      ]
    },
    {
      "cell_type": "code",
      "metadata": {
        "id": "5Mtg4JTkhF5N",
        "colab_type": "code",
        "colab": {}
      },
      "source": [
        "from toai.metrics import rmse"
      ],
      "execution_count": 0,
      "outputs": []
    },
    {
      "cell_type": "code",
      "metadata": {
        "id": "PxIfkxBDhbV4",
        "colab_type": "code",
        "colab": {}
      },
      "source": [
        "def evaluate_predictions(model, dataset, scaler, metric):\n",
        "    y_true = np.concatenate(\n",
        "        [scaler.inverse_transform(y.numpy().reshape(-1, 1)) for _, y in dataset]\n",
        "    )\n",
        "    y_pred = scaler.inverse_transform(model.predict(dataset))\n",
        "    return metric(y_true, y_pred)"
      ],
      "execution_count": 0,
      "outputs": []
    },
    {
      "cell_type": "code",
      "metadata": {
        "id": "YM4a3CNEhbd7",
        "colab_type": "code",
        "outputId": "0a2ac335-d4ab-4c03-8dd4-e10e663c8475",
        "colab": {
          "base_uri": "https://localhost:8080/",
          "height": 68
        }
      },
      "source": [
        "for model in [mean_model, dot_model, concat_model]:\n",
        "    print(evaluate_predictions(model, val_dataset, scaler, rmse))"
      ],
      "execution_count": 54,
      "outputs": [
        {
          "output_type": "stream",
          "text": [
            "3.6848643868031377\n",
            "3.603496791849922\n",
            "3.34599197946469\n"
          ],
          "name": "stdout"
        }
      ]
    },
    {
      "cell_type": "code",
      "metadata": {
        "id": "AB4_NrTKhbld",
        "colab_type": "code",
        "colab": {}
      },
      "source": [
        "test_df[TARGET_COL] = scaler.transform(test_df[[TARGET_COL]])\n",
        "test_df = encoder.transform(test_df)"
      ],
      "execution_count": 0,
      "outputs": []
    },
    {
      "cell_type": "code",
      "metadata": {
        "id": "K3z9UqzLQxdq",
        "colab_type": "code",
        "colab": {}
      },
      "source": [
        "test_dataset = (\n",
        "    tf.data.Dataset.zip(\n",
        "        (\n",
        "            tf.data.Dataset.from_tensor_slices(\n",
        "                (test_df['User-ID'].values, test_df['ISBN'].values)\n",
        "            ),\n",
        "            tf.data.Dataset.from_tensor_slices(test_df[TARGET_COL].values),\n",
        "        )\n",
        "    )\n",
        "    .batch(BATCH_SIZE)\n",
        "    .prefetch(AUTOTUNE)\n",
        ")"
      ],
      "execution_count": 0,
      "outputs": []
    },
    {
      "cell_type": "code",
      "metadata": {
        "id": "lTTB2tQlk9mW",
        "colab_type": "code",
        "outputId": "bed98a37-1829-46d9-a30b-f727ae6f3f14",
        "colab": {
          "base_uri": "https://localhost:8080/",
          "height": 68
        }
      },
      "source": [
        "for model in [mean_model, dot_model, concat_model]:\n",
        "    print(evaluate_predictions(model, test_dataset, scaler, rmse))"
      ],
      "execution_count": 57,
      "outputs": [
        {
          "output_type": "stream",
          "text": [
            "3.686771784398326\n",
            "3.611767562236434\n",
            "3.381294868959415\n"
          ],
          "name": "stdout"
        }
      ]
    }
  ]
}